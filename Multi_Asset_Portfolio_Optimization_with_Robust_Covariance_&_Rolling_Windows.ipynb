{
  "nbformat": 4,
  "nbformat_minor": 0,
  "metadata": {
    "colab": {
      "provenance": []
    },
    "kernelspec": {
      "name": "python3",
      "display_name": "Python 3"
    },
    "language_info": {
      "name": "python"
    }
  },
  "cells": [
    {
      "cell_type": "markdown",
      "source": [
        "# Introduction\n",
        "\n",
        "Modern Portfolio Theory (MPT) optimizes asset weights by mean-variance analysis to balance risk against return. Actual markets are not simple, though, and naive covariance estimates can be noisy or unstable with a small sample or volatile assets. In this regard, we utilize a *robust covariance estimation* technique (Ledoit-Wolf) that shrinks the covariance matrix towards a more stable estimate.\n",
        "\n",
        "Additionally, real-world portfolios are not stationary. Market conditions evolve, so we use a **rolling window** to re-estimate returns and covariance over time. This rolling approach better reflects real-world portfolio rebalancing strategies. Finally, we include multiple asset classes—equities, bonds, commodities, and crypto—to illustrate the benefits of diversification."
      ],
      "metadata": {
        "id": "IniNglJy008i"
      }
    },
    {
      "cell_type": "markdown",
      "source": [
        "# Initial testing with randomized data"
      ],
      "metadata": {
        "id": "b7MAWA5K0-88"
      }
    },
    {
      "cell_type": "code",
      "execution_count": 3,
      "metadata": {
        "colab": {
          "base_uri": "https://localhost:8080/"
        },
        "collapsed": true,
        "id": "qmt4z5VWvbX7",
        "outputId": "6a1e98c5-eb75-405c-b626-6f747c90b061"
      },
      "outputs": [
        {
          "output_type": "stream",
          "name": "stdout",
          "text": [
            "Requirement already satisfied: numpy in /usr/local/lib/python3.11/dist-packages (1.26.4)\n",
            "Requirement already satisfied: pandas in /usr/local/lib/python3.11/dist-packages (2.2.2)\n",
            "Requirement already satisfied: matplotlib in /usr/local/lib/python3.11/dist-packages (3.10.0)\n",
            "Requirement already satisfied: scipy in /usr/local/lib/python3.11/dist-packages (1.14.1)\n",
            "Requirement already satisfied: python-dateutil>=2.8.2 in /usr/local/lib/python3.11/dist-packages (from pandas) (2.8.2)\n",
            "Requirement already satisfied: pytz>=2020.1 in /usr/local/lib/python3.11/dist-packages (from pandas) (2025.1)\n",
            "Requirement already satisfied: tzdata>=2022.7 in /usr/local/lib/python3.11/dist-packages (from pandas) (2025.1)\n",
            "Requirement already satisfied: contourpy>=1.0.1 in /usr/local/lib/python3.11/dist-packages (from matplotlib) (1.3.1)\n",
            "Requirement already satisfied: cycler>=0.10 in /usr/local/lib/python3.11/dist-packages (from matplotlib) (0.12.1)\n",
            "Requirement already satisfied: fonttools>=4.22.0 in /usr/local/lib/python3.11/dist-packages (from matplotlib) (4.56.0)\n",
            "Requirement already satisfied: kiwisolver>=1.3.1 in /usr/local/lib/python3.11/dist-packages (from matplotlib) (1.4.8)\n",
            "Requirement already satisfied: packaging>=20.0 in /usr/local/lib/python3.11/dist-packages (from matplotlib) (24.2)\n",
            "Requirement already satisfied: pillow>=8 in /usr/local/lib/python3.11/dist-packages (from matplotlib) (11.1.0)\n",
            "Requirement already satisfied: pyparsing>=2.3.1 in /usr/local/lib/python3.11/dist-packages (from matplotlib) (3.2.1)\n",
            "Requirement already satisfied: six>=1.5 in /usr/local/lib/python3.11/dist-packages (from python-dateutil>=2.8.2->pandas) (1.17.0)\n"
          ]
        }
      ],
      "source": [
        "!pip install numpy pandas matplotlib scipy\n"
      ]
    },
    {
      "cell_type": "code",
      "source": [
        "import numpy as np\n",
        "import pandas as pd\n",
        "import matplotlib.pyplot as plt\n",
        "from scipy.optimize import minimize\n"
      ],
      "metadata": {
        "id": "b_RAz75cvjwZ"
      },
      "execution_count": 4,
      "outputs": []
    },
    {
      "cell_type": "code",
      "source": [
        "np.random.seed(42)  # For reproducibility\n",
        "\n",
        "# Simulate monthly returns for 4 assets over 60 months\n",
        "dates = pd.date_range(start='2020-01-01', periods=60, freq='M')\n",
        "asset_returns = pd.DataFrame(np.random.randn(60, 4) * 0.02, columns=['Asset_A', 'Asset_B', 'Asset_C', 'Asset_D'], index=dates)\n",
        "\n",
        "asset_returns.head()\n"
      ],
      "metadata": {
        "colab": {
          "base_uri": "https://localhost:8080/",
          "height": 242
        },
        "id": "2siYTXbOvmRE",
        "outputId": "9d75625c-7eaa-45ba-d764-7ab122d641db"
      },
      "execution_count": 5,
      "outputs": [
        {
          "output_type": "stream",
          "name": "stderr",
          "text": [
            "<ipython-input-5-52d76c21017f>:4: FutureWarning: 'M' is deprecated and will be removed in a future version, please use 'ME' instead.\n",
            "  dates = pd.date_range(start='2020-01-01', periods=60, freq='M')\n"
          ]
        },
        {
          "output_type": "execute_result",
          "data": {
            "text/plain": [
              "             Asset_A   Asset_B   Asset_C   Asset_D\n",
              "2020-01-31  0.009934 -0.002765  0.012954  0.030461\n",
              "2020-02-29 -0.004683 -0.004683  0.031584  0.015349\n",
              "2020-03-31 -0.009389  0.010851 -0.009268 -0.009315\n",
              "2020-04-30  0.004839 -0.038266 -0.034498 -0.011246\n",
              "2020-05-31 -0.020257  0.006285 -0.018160 -0.028246"
            ],
            "text/html": [
              "\n",
              "  <div id=\"df-9ad1f863-a5b5-4447-b38e-22d7446dba1f\" class=\"colab-df-container\">\n",
              "    <div>\n",
              "<style scoped>\n",
              "    .dataframe tbody tr th:only-of-type {\n",
              "        vertical-align: middle;\n",
              "    }\n",
              "\n",
              "    .dataframe tbody tr th {\n",
              "        vertical-align: top;\n",
              "    }\n",
              "\n",
              "    .dataframe thead th {\n",
              "        text-align: right;\n",
              "    }\n",
              "</style>\n",
              "<table border=\"1\" class=\"dataframe\">\n",
              "  <thead>\n",
              "    <tr style=\"text-align: right;\">\n",
              "      <th></th>\n",
              "      <th>Asset_A</th>\n",
              "      <th>Asset_B</th>\n",
              "      <th>Asset_C</th>\n",
              "      <th>Asset_D</th>\n",
              "    </tr>\n",
              "  </thead>\n",
              "  <tbody>\n",
              "    <tr>\n",
              "      <th>2020-01-31</th>\n",
              "      <td>0.009934</td>\n",
              "      <td>-0.002765</td>\n",
              "      <td>0.012954</td>\n",
              "      <td>0.030461</td>\n",
              "    </tr>\n",
              "    <tr>\n",
              "      <th>2020-02-29</th>\n",
              "      <td>-0.004683</td>\n",
              "      <td>-0.004683</td>\n",
              "      <td>0.031584</td>\n",
              "      <td>0.015349</td>\n",
              "    </tr>\n",
              "    <tr>\n",
              "      <th>2020-03-31</th>\n",
              "      <td>-0.009389</td>\n",
              "      <td>0.010851</td>\n",
              "      <td>-0.009268</td>\n",
              "      <td>-0.009315</td>\n",
              "    </tr>\n",
              "    <tr>\n",
              "      <th>2020-04-30</th>\n",
              "      <td>0.004839</td>\n",
              "      <td>-0.038266</td>\n",
              "      <td>-0.034498</td>\n",
              "      <td>-0.011246</td>\n",
              "    </tr>\n",
              "    <tr>\n",
              "      <th>2020-05-31</th>\n",
              "      <td>-0.020257</td>\n",
              "      <td>0.006285</td>\n",
              "      <td>-0.018160</td>\n",
              "      <td>-0.028246</td>\n",
              "    </tr>\n",
              "  </tbody>\n",
              "</table>\n",
              "</div>\n",
              "    <div class=\"colab-df-buttons\">\n",
              "\n",
              "  <div class=\"colab-df-container\">\n",
              "    <button class=\"colab-df-convert\" onclick=\"convertToInteractive('df-9ad1f863-a5b5-4447-b38e-22d7446dba1f')\"\n",
              "            title=\"Convert this dataframe to an interactive table.\"\n",
              "            style=\"display:none;\">\n",
              "\n",
              "  <svg xmlns=\"http://www.w3.org/2000/svg\" height=\"24px\" viewBox=\"0 -960 960 960\">\n",
              "    <path d=\"M120-120v-720h720v720H120Zm60-500h600v-160H180v160Zm220 220h160v-160H400v160Zm0 220h160v-160H400v160ZM180-400h160v-160H180v160Zm440 0h160v-160H620v160ZM180-180h160v-160H180v160Zm440 0h160v-160H620v160Z\"/>\n",
              "  </svg>\n",
              "    </button>\n",
              "\n",
              "  <style>\n",
              "    .colab-df-container {\n",
              "      display:flex;\n",
              "      gap: 12px;\n",
              "    }\n",
              "\n",
              "    .colab-df-convert {\n",
              "      background-color: #E8F0FE;\n",
              "      border: none;\n",
              "      border-radius: 50%;\n",
              "      cursor: pointer;\n",
              "      display: none;\n",
              "      fill: #1967D2;\n",
              "      height: 32px;\n",
              "      padding: 0 0 0 0;\n",
              "      width: 32px;\n",
              "    }\n",
              "\n",
              "    .colab-df-convert:hover {\n",
              "      background-color: #E2EBFA;\n",
              "      box-shadow: 0px 1px 2px rgba(60, 64, 67, 0.3), 0px 1px 3px 1px rgba(60, 64, 67, 0.15);\n",
              "      fill: #174EA6;\n",
              "    }\n",
              "\n",
              "    .colab-df-buttons div {\n",
              "      margin-bottom: 4px;\n",
              "    }\n",
              "\n",
              "    [theme=dark] .colab-df-convert {\n",
              "      background-color: #3B4455;\n",
              "      fill: #D2E3FC;\n",
              "    }\n",
              "\n",
              "    [theme=dark] .colab-df-convert:hover {\n",
              "      background-color: #434B5C;\n",
              "      box-shadow: 0px 1px 3px 1px rgba(0, 0, 0, 0.15);\n",
              "      filter: drop-shadow(0px 1px 2px rgba(0, 0, 0, 0.3));\n",
              "      fill: #FFFFFF;\n",
              "    }\n",
              "  </style>\n",
              "\n",
              "    <script>\n",
              "      const buttonEl =\n",
              "        document.querySelector('#df-9ad1f863-a5b5-4447-b38e-22d7446dba1f button.colab-df-convert');\n",
              "      buttonEl.style.display =\n",
              "        google.colab.kernel.accessAllowed ? 'block' : 'none';\n",
              "\n",
              "      async function convertToInteractive(key) {\n",
              "        const element = document.querySelector('#df-9ad1f863-a5b5-4447-b38e-22d7446dba1f');\n",
              "        const dataTable =\n",
              "          await google.colab.kernel.invokeFunction('convertToInteractive',\n",
              "                                                    [key], {});\n",
              "        if (!dataTable) return;\n",
              "\n",
              "        const docLinkHtml = 'Like what you see? Visit the ' +\n",
              "          '<a target=\"_blank\" href=https://colab.research.google.com/notebooks/data_table.ipynb>data table notebook</a>'\n",
              "          + ' to learn more about interactive tables.';\n",
              "        element.innerHTML = '';\n",
              "        dataTable['output_type'] = 'display_data';\n",
              "        await google.colab.output.renderOutput(dataTable, element);\n",
              "        const docLink = document.createElement('div');\n",
              "        docLink.innerHTML = docLinkHtml;\n",
              "        element.appendChild(docLink);\n",
              "      }\n",
              "    </script>\n",
              "  </div>\n",
              "\n",
              "\n",
              "<div id=\"df-ae915d19-ff6a-475d-b82c-f890d982a2a2\">\n",
              "  <button class=\"colab-df-quickchart\" onclick=\"quickchart('df-ae915d19-ff6a-475d-b82c-f890d982a2a2')\"\n",
              "            title=\"Suggest charts\"\n",
              "            style=\"display:none;\">\n",
              "\n",
              "<svg xmlns=\"http://www.w3.org/2000/svg\" height=\"24px\"viewBox=\"0 0 24 24\"\n",
              "     width=\"24px\">\n",
              "    <g>\n",
              "        <path d=\"M19 3H5c-1.1 0-2 .9-2 2v14c0 1.1.9 2 2 2h14c1.1 0 2-.9 2-2V5c0-1.1-.9-2-2-2zM9 17H7v-7h2v7zm4 0h-2V7h2v10zm4 0h-2v-4h2v4z\"/>\n",
              "    </g>\n",
              "</svg>\n",
              "  </button>\n",
              "\n",
              "<style>\n",
              "  .colab-df-quickchart {\n",
              "      --bg-color: #E8F0FE;\n",
              "      --fill-color: #1967D2;\n",
              "      --hover-bg-color: #E2EBFA;\n",
              "      --hover-fill-color: #174EA6;\n",
              "      --disabled-fill-color: #AAA;\n",
              "      --disabled-bg-color: #DDD;\n",
              "  }\n",
              "\n",
              "  [theme=dark] .colab-df-quickchart {\n",
              "      --bg-color: #3B4455;\n",
              "      --fill-color: #D2E3FC;\n",
              "      --hover-bg-color: #434B5C;\n",
              "      --hover-fill-color: #FFFFFF;\n",
              "      --disabled-bg-color: #3B4455;\n",
              "      --disabled-fill-color: #666;\n",
              "  }\n",
              "\n",
              "  .colab-df-quickchart {\n",
              "    background-color: var(--bg-color);\n",
              "    border: none;\n",
              "    border-radius: 50%;\n",
              "    cursor: pointer;\n",
              "    display: none;\n",
              "    fill: var(--fill-color);\n",
              "    height: 32px;\n",
              "    padding: 0;\n",
              "    width: 32px;\n",
              "  }\n",
              "\n",
              "  .colab-df-quickchart:hover {\n",
              "    background-color: var(--hover-bg-color);\n",
              "    box-shadow: 0 1px 2px rgba(60, 64, 67, 0.3), 0 1px 3px 1px rgba(60, 64, 67, 0.15);\n",
              "    fill: var(--button-hover-fill-color);\n",
              "  }\n",
              "\n",
              "  .colab-df-quickchart-complete:disabled,\n",
              "  .colab-df-quickchart-complete:disabled:hover {\n",
              "    background-color: var(--disabled-bg-color);\n",
              "    fill: var(--disabled-fill-color);\n",
              "    box-shadow: none;\n",
              "  }\n",
              "\n",
              "  .colab-df-spinner {\n",
              "    border: 2px solid var(--fill-color);\n",
              "    border-color: transparent;\n",
              "    border-bottom-color: var(--fill-color);\n",
              "    animation:\n",
              "      spin 1s steps(1) infinite;\n",
              "  }\n",
              "\n",
              "  @keyframes spin {\n",
              "    0% {\n",
              "      border-color: transparent;\n",
              "      border-bottom-color: var(--fill-color);\n",
              "      border-left-color: var(--fill-color);\n",
              "    }\n",
              "    20% {\n",
              "      border-color: transparent;\n",
              "      border-left-color: var(--fill-color);\n",
              "      border-top-color: var(--fill-color);\n",
              "    }\n",
              "    30% {\n",
              "      border-color: transparent;\n",
              "      border-left-color: var(--fill-color);\n",
              "      border-top-color: var(--fill-color);\n",
              "      border-right-color: var(--fill-color);\n",
              "    }\n",
              "    40% {\n",
              "      border-color: transparent;\n",
              "      border-right-color: var(--fill-color);\n",
              "      border-top-color: var(--fill-color);\n",
              "    }\n",
              "    60% {\n",
              "      border-color: transparent;\n",
              "      border-right-color: var(--fill-color);\n",
              "    }\n",
              "    80% {\n",
              "      border-color: transparent;\n",
              "      border-right-color: var(--fill-color);\n",
              "      border-bottom-color: var(--fill-color);\n",
              "    }\n",
              "    90% {\n",
              "      border-color: transparent;\n",
              "      border-bottom-color: var(--fill-color);\n",
              "    }\n",
              "  }\n",
              "</style>\n",
              "\n",
              "  <script>\n",
              "    async function quickchart(key) {\n",
              "      const quickchartButtonEl =\n",
              "        document.querySelector('#' + key + ' button');\n",
              "      quickchartButtonEl.disabled = true;  // To prevent multiple clicks.\n",
              "      quickchartButtonEl.classList.add('colab-df-spinner');\n",
              "      try {\n",
              "        const charts = await google.colab.kernel.invokeFunction(\n",
              "            'suggestCharts', [key], {});\n",
              "      } catch (error) {\n",
              "        console.error('Error during call to suggestCharts:', error);\n",
              "      }\n",
              "      quickchartButtonEl.classList.remove('colab-df-spinner');\n",
              "      quickchartButtonEl.classList.add('colab-df-quickchart-complete');\n",
              "    }\n",
              "    (() => {\n",
              "      let quickchartButtonEl =\n",
              "        document.querySelector('#df-ae915d19-ff6a-475d-b82c-f890d982a2a2 button');\n",
              "      quickchartButtonEl.style.display =\n",
              "        google.colab.kernel.accessAllowed ? 'block' : 'none';\n",
              "    })();\n",
              "  </script>\n",
              "</div>\n",
              "\n",
              "    </div>\n",
              "  </div>\n"
            ],
            "application/vnd.google.colaboratory.intrinsic+json": {
              "type": "dataframe",
              "variable_name": "asset_returns",
              "summary": "{\n  \"name\": \"asset_returns\",\n  \"rows\": 60,\n  \"fields\": [\n    {\n      \"column\": \"Asset_A\",\n      \"properties\": {\n        \"dtype\": \"number\",\n        \"std\": 0.015967291966961103,\n        \"min\": -0.04050285173315214,\n        \"max\": 0.046293171333470176,\n        \"num_unique_values\": 60,\n        \"samples\": [\n          0.009934283060224654,\n          0.029312975378431083,\n          0.005197655884968471\n        ],\n        \"semantic_type\": \"\",\n        \"description\": \"\"\n      }\n    },\n    {\n      \"column\": \"Asset_B\",\n      \"properties\": {\n        \"dtype\": \"number\",\n        \"std\": 0.02120341374246816,\n        \"min\": -0.039193402477595514,\n        \"max\": 0.07705462981309442,\n        \"num_unique_values\": 60,\n        \"samples\": [\n          -0.002765286023423693,\n          -0.004515526009730713,\n          0.015636457435546206\n        ],\n        \"semantic_type\": \"\",\n        \"description\": \"\"\n      }\n    },\n    {\n      \"column\": \"Asset_C\",\n      \"properties\": {\n        \"dtype\": \"number\",\n        \"std\": 0.01976662985039253,\n        \"min\": -0.05239490208179489,\n        \"max\": 0.04287888178650651,\n        \"num_unique_values\": 60,\n        \"samples\": [\n          0.01295377076201385,\n          0.0013505640937584767,\n          -0.02473901421756164\n        ],\n        \"semantic_type\": \"\",\n        \"description\": \"\"\n      }\n    },\n    {\n      \"column\": \"Asset_D\",\n      \"properties\": {\n        \"dtype\": \"number\",\n        \"std\": 0.020517256413581358,\n        \"min\": -0.03975137829201786,\n        \"max\": 0.05440338333179238,\n        \"num_unique_values\": 60,\n        \"samples\": [\n          0.03046059712816051,\n          -0.028494963724269136,\n          -0.026409132261685526\n        ],\n        \"semantic_type\": \"\",\n        \"description\": \"\"\n      }\n    }\n  ]\n}"
            }
          },
          "metadata": {},
          "execution_count": 5
        }
      ]
    },
    {
      "cell_type": "code",
      "source": [
        "mean_returns = asset_returns.mean()  # Average monthly returns\n",
        "cov_matrix = asset_returns.cov()     # Covariance of returns\n"
      ],
      "metadata": {
        "id": "4tJlaHOnvxjQ"
      },
      "execution_count": 6,
      "outputs": []
    },
    {
      "cell_type": "code",
      "source": [
        "def portfolio_variance(weights, cov_matrix):\n",
        "    return weights.T @ cov_matrix @ weights\n"
      ],
      "metadata": {
        "id": "1CW1PmnOvz2p"
      },
      "execution_count": 7,
      "outputs": []
    },
    {
      "cell_type": "code",
      "source": [
        "def target_return_constraint(weights, mean_returns, target_return):\n",
        "    # We'll use the difference so it must be >= 0\n",
        "    return (weights.T @ mean_returns) - target_return\n",
        "\n",
        "# Weights sum-to-1 constraint: sum(weights) = 1\n",
        "weights_sum_to_1 = {\n",
        "    'type': 'eq',\n",
        "    'fun': lambda w: np.sum(w) - 1\n",
        "}\n",
        "\n",
        "# Non-negativity bounds for each asset weight\n",
        "bounds = [(0.0, 1.0)] * len(mean_returns)\n"
      ],
      "metadata": {
        "id": "L__cs3ZGv14s"
      },
      "execution_count": 8,
      "outputs": []
    },
    {
      "cell_type": "code",
      "source": [
        "results = []\n",
        "target_returns = np.linspace(mean_returns.min(), mean_returns.max(), 20)\n",
        "\n",
        "for tr in target_returns:\n",
        "    constraints = (\n",
        "        weights_sum_to_1,\n",
        "        {'type': 'ineq', 'fun': target_return_constraint, 'args': (mean_returns, tr)}\n",
        "    )\n",
        "\n",
        "    # We need an initial guess: let's do equal weights\n",
        "    init_guess = np.ones(len(mean_returns)) / len(mean_returns)\n",
        "\n",
        "    opt_result = minimize(\n",
        "        fun=portfolio_variance,\n",
        "        x0=init_guess,\n",
        "        args=(cov_matrix,),\n",
        "        method='SLSQP',\n",
        "        bounds=bounds,\n",
        "        constraints=constraints\n",
        "    )\n",
        "\n",
        "    if opt_result.success:\n",
        "        w_opt = opt_result.x\n",
        "        portfolio_return = w_opt @ mean_returns\n",
        "        portfolio_risk = np.sqrt(w_opt @ cov_matrix @ w_opt)\n",
        "        results.append({\n",
        "            'target_return': tr,\n",
        "            'actual_return': portfolio_return,\n",
        "            'risk': portfolio_risk,\n",
        "            'weights': w_opt\n",
        "        })\n"
      ],
      "metadata": {
        "id": "K61thvFLv30l"
      },
      "execution_count": 9,
      "outputs": []
    },
    {
      "cell_type": "code",
      "source": [
        "# Convert the results list to a DataFrame\n",
        "frontier_df = pd.DataFrame(results)\n",
        "\n",
        "plt.figure()\n",
        "plt.plot(frontier_df['risk'], frontier_df['actual_return'], marker='o', linestyle='-')\n",
        "plt.xlabel('Portfolio Risk (Std. Dev.)')\n",
        "plt.ylabel('Portfolio Return')\n",
        "plt.title('Efficient Frontier')\n",
        "plt.show()\n"
      ],
      "metadata": {
        "colab": {
          "base_uri": "https://localhost:8080/",
          "height": 472
        },
        "id": "o302lFMxv5q9",
        "outputId": "d245db18-11ba-4027-a9aa-f3f553391164"
      },
      "execution_count": 10,
      "outputs": [
        {
          "output_type": "display_data",
          "data": {
            "text/plain": [
              "<Figure size 640x480 with 1 Axes>"
            ],
            "image/png": "[encoded data removed]"
          },
          "metadata": {}
        }
      ]
    },
    {
      "cell_type": "markdown",
      "source": [
        "# Real Data"
      ],
      "metadata": {
        "id": "bEraO0ZZwZGQ"
      }
    },
    {
      "cell_type": "code",
      "source": [
        "from scipy.optimize import minimize\n",
        "import yfinance as yf"
      ],
      "metadata": {
        "id": "rQtg8rdFwatR"
      },
      "execution_count": 11,
      "outputs": []
    },
    {
      "cell_type": "code",
      "source": [
        "tickers = [\"SPY\", \"AAPL\", \"MSFT\"]\n",
        "start_date = \"2020-01-01\"\n",
        "end_date = \"2025-01-01\"\n",
        "\n",
        "data = yf.download(tickers, start=start_date, end=end_date, interval=\"1mo\", auto_adjust=True)['Close']\n",
        "data.dropna(inplace=True)\n",
        "data.head()"
      ],
      "metadata": {
        "colab": {
          "base_uri": "https://localhost:8080/",
          "height": 255
        },
        "id": "nnruCIPnweVq",
        "outputId": "f423bc9e-6a73-4eaf-85f2-7d9b798b2d5a"
      },
      "execution_count": 12,
      "outputs": [
        {
          "output_type": "stream",
          "name": "stderr",
          "text": [
            "[*********************100%***********************]  3 of 3 completed\n"
          ]
        },
        {
          "output_type": "execute_result",
          "data": {
            "text/plain": [
              "Ticker           AAPL        MSFT         SPY\n",
              "Date                                         \n",
              "2020-01-01  74.933746  162.496674  298.283752\n",
              "2020-02-01  66.181664  154.650101  274.669830\n",
              "2020-03-01  61.710846  150.956680  238.966354\n",
              "2020-04-01  71.299095  171.536011  270.894745\n",
              "2020-05-01  77.157364  175.403015  283.801575"
            ],
            "text/html": [
              "\n",
              "  <div id=\"df-9d0f2f4d-d99a-46ab-9cb2-2071dd543fab\" class=\"colab-df-container\">\n",
              "    <div>\n",
              "<style scoped>\n",
              "    .dataframe tbody tr th:only-of-type {\n",
              "        vertical-align: middle;\n",
              "    }\n",
              "\n",
              "    .dataframe tbody tr th {\n",
              "        vertical-align: top;\n",
              "    }\n",
              "\n",
              "    .dataframe thead th {\n",
              "        text-align: right;\n",
              "    }\n",
              "</style>\n",
              "<table border=\"1\" class=\"dataframe\">\n",
              "  <thead>\n",
              "    <tr style=\"text-align: right;\">\n",
              "      <th>Ticker</th>\n",
              "      <th>AAPL</th>\n",
              "      <th>MSFT</th>\n",
              "      <th>SPY</th>\n",
              "    </tr>\n",
              "    <tr>\n",
              "      <th>Date</th>\n",
              "      <th></th>\n",
              "      <th></th>\n",
              "      <th></th>\n",
              "    </tr>\n",
              "  </thead>\n",
              "  <tbody>\n",
              "    <tr>\n",
              "      <th>2020-01-01</th>\n",
              "      <td>74.933746</td>\n",
              "      <td>162.496674</td>\n",
              "      <td>298.283752</td>\n",
              "    </tr>\n",
              "    <tr>\n",
              "      <th>2020-02-01</th>\n",
              "      <td>66.181664</td>\n",
              "      <td>154.650101</td>\n",
              "      <td>274.669830</td>\n",
              "    </tr>\n",
              "    <tr>\n",
              "      <th>2020-03-01</th>\n",
              "      <td>61.710846</td>\n",
              "      <td>150.956680</td>\n",
              "      <td>238.966354</td>\n",
              "    </tr>\n",
              "    <tr>\n",
              "      <th>2020-04-01</th>\n",
              "      <td>71.299095</td>\n",
              "      <td>171.536011</td>\n",
              "      <td>270.894745</td>\n",
              "    </tr>\n",
              "    <tr>\n",
              "      <th>2020-05-01</th>\n",
              "      <td>77.157364</td>\n",
              "      <td>175.403015</td>\n",
              "      <td>283.801575</td>\n",
              "    </tr>\n",
              "  </tbody>\n",
              "</table>\n",
              "</div>\n",
              "    <div class=\"colab-df-buttons\">\n",
              "\n",
              "  <div class=\"colab-df-container\">\n",
              "    <button class=\"colab-df-convert\" onclick=\"convertToInteractive('df-9d0f2f4d-d99a-46ab-9cb2-2071dd543fab')\"\n",
              "            title=\"Convert this dataframe to an interactive table.\"\n",
              "            style=\"display:none;\">\n",
              "\n",
              "  <svg xmlns=\"http://www.w3.org/2000/svg\" height=\"24px\" viewBox=\"0 -960 960 960\">\n",
              "    <path d=\"M120-120v-720h720v720H120Zm60-500h600v-160H180v160Zm220 220h160v-160H400v160Zm0 220h160v-160H400v160ZM180-400h160v-160H180v160Zm440 0h160v-160H620v160ZM180-180h160v-160H180v160Zm440 0h160v-160H620v160Z\"/>\n",
              "  </svg>\n",
              "    </button>\n",
              "\n",
              "  <style>\n",
              "    .colab-df-container {\n",
              "      display:flex;\n",
              "      gap: 12px;\n",
              "    }\n",
              "\n",
              "    .colab-df-convert {\n",
              "      background-color: #E8F0FE;\n",
              "      border: none;\n",
              "      border-radius: 50%;\n",
              "      cursor: pointer;\n",
              "      display: none;\n",
              "      fill: #1967D2;\n",
              "      height: 32px;\n",
              "      padding: 0 0 0 0;\n",
              "      width: 32px;\n",
              "    }\n",
              "\n",
              "    .colab-df-convert:hover {\n",
              "      background-color: #E2EBFA;\n",
              "      box-shadow: 0px 1px 2px rgba(60, 64, 67, 0.3), 0px 1px 3px 1px rgba(60, 64, 67, 0.15);\n",
              "      fill: #174EA6;\n",
              "    }\n",
              "\n",
              "    .colab-df-buttons div {\n",
              "      margin-bottom: 4px;\n",
              "    }\n",
              "\n",
              "    [theme=dark] .colab-df-convert {\n",
              "      background-color: #3B4455;\n",
              "      fill: #D2E3FC;\n",
              "    }\n",
              "\n",
              "    [theme=dark] .colab-df-convert:hover {\n",
              "      background-color: #434B5C;\n",
              "      box-shadow: 0px 1px 3px 1px rgba(0, 0, 0, 0.15);\n",
              "      filter: drop-shadow(0px 1px 2px rgba(0, 0, 0, 0.3));\n",
              "      fill: #FFFFFF;\n",
              "    }\n",
              "  </style>\n",
              "\n",
              "    <script>\n",
              "      const buttonEl =\n",
              "        document.querySelector('#df-9d0f2f4d-d99a-46ab-9cb2-2071dd543fab button.colab-df-convert');\n",
              "      buttonEl.style.display =\n",
              "        google.colab.kernel.accessAllowed ? 'block' : 'none';\n",
              "\n",
              "      async function convertToInteractive(key) {\n",
              "        const element = document.querySelector('#df-9d0f2f4d-d99a-46ab-9cb2-2071dd543fab');\n",
              "        const dataTable =\n",
              "          await google.colab.kernel.invokeFunction('convertToInteractive',\n",
              "                                                    [key], {});\n",
              "        if (!dataTable) return;\n",
              "\n",
              "        const docLinkHtml = 'Like what you see? Visit the ' +\n",
              "          '<a target=\"_blank\" href=https://colab.research.google.com/notebooks/data_table.ipynb>data table notebook</a>'\n",
              "          + ' to learn more about interactive tables.';\n",
              "        element.innerHTML = '';\n",
              "        dataTable['output_type'] = 'display_data';\n",
              "        await google.colab.output.renderOutput(dataTable, element);\n",
              "        const docLink = document.createElement('div');\n",
              "        docLink.innerHTML = docLinkHtml;\n",
              "        element.appendChild(docLink);\n",
              "      }\n",
              "    </script>\n",
              "  </div>\n",
              "\n",
              "\n",
              "<div id=\"df-deffe494-0b7b-40b4-b0eb-fed37cb57474\">\n",
              "  <button class=\"colab-df-quickchart\" onclick=\"quickchart('df-deffe494-0b7b-40b4-b0eb-fed37cb57474')\"\n",
              "            title=\"Suggest charts\"\n",
              "            style=\"display:none;\">\n",
              "\n",
              "<svg xmlns=\"http://www.w3.org/2000/svg\" height=\"24px\"viewBox=\"0 0 24 24\"\n",
              "     width=\"24px\">\n",
              "    <g>\n",
              "        <path d=\"M19 3H5c-1.1 0-2 .9-2 2v14c0 1.1.9 2 2 2h14c1.1 0 2-.9 2-2V5c0-1.1-.9-2-2-2zM9 17H7v-7h2v7zm4 0h-2V7h2v10zm4 0h-2v-4h2v4z\"/>\n",
              "    </g>\n",
              "</svg>\n",
              "  </button>\n",
              "\n",
              "<style>\n",
              "  .colab-df-quickchart {\n",
              "      --bg-color: #E8F0FE;\n",
              "      --fill-color: #1967D2;\n",
              "      --hover-bg-color: #E2EBFA;\n",
              "      --hover-fill-color: #174EA6;\n",
              "      --disabled-fill-color: #AAA;\n",
              "      --disabled-bg-color: #DDD;\n",
              "  }\n",
              "\n",
              "  [theme=dark] .colab-df-quickchart {\n",
              "      --bg-color: #3B4455;\n",
              "      --fill-color: #D2E3FC;\n",
              "      --hover-bg-color: #434B5C;\n",
              "      --hover-fill-color: #FFFFFF;\n",
              "      --disabled-bg-color: #3B4455;\n",
              "      --disabled-fill-color: #666;\n",
              "  }\n",
              "\n",
              "  .colab-df-quickchart {\n",
              "    background-color: var(--bg-color);\n",
              "    border: none;\n",
              "    border-radius: 50%;\n",
              "    cursor: pointer;\n",
              "    display: none;\n",
              "    fill: var(--fill-color);\n",
              "    height: 32px;\n",
              "    padding: 0;\n",
              "    width: 32px;\n",
              "  }\n",
              "\n",
              "  .colab-df-quickchart:hover {\n",
              "    background-color: var(--hover-bg-color);\n",
              "    box-shadow: 0 1px 2px rgba(60, 64, 67, 0.3), 0 1px 3px 1px rgba(60, 64, 67, 0.15);\n",
              "    fill: var(--button-hover-fill-color);\n",
              "  }\n",
              "\n",
              "  .colab-df-quickchart-complete:disabled,\n",
              "  .colab-df-quickchart-complete:disabled:hover {\n",
              "    background-color: var(--disabled-bg-color);\n",
              "    fill: var(--disabled-fill-color);\n",
              "    box-shadow: none;\n",
              "  }\n",
              "\n",
              "  .colab-df-spinner {\n",
              "    border: 2px solid var(--fill-color);\n",
              "    border-color: transparent;\n",
              "    border-bottom-color: var(--fill-color);\n",
              "    animation:\n",
              "      spin 1s steps(1) infinite;\n",
              "  }\n",
              "\n",
              "  @keyframes spin {\n",
              "    0% {\n",
              "      border-color: transparent;\n",
              "      border-bottom-color: var(--fill-color);\n",
              "      border-left-color: var(--fill-color);\n",
              "    }\n",
              "    20% {\n",
              "      border-color: transparent;\n",
              "      border-left-color: var(--fill-color);\n",
              "      border-top-color: var(--fill-color);\n",
              "    }\n",
              "    30% {\n",
              "      border-color: transparent;\n",
              "      border-left-color: var(--fill-color);\n",
              "      border-top-color: var(--fill-color);\n",
              "      border-right-color: var(--fill-color);\n",
              "    }\n",
              "    40% {\n",
              "      border-color: transparent;\n",
              "      border-right-color: var(--fill-color);\n",
              "      border-top-color: var(--fill-color);\n",
              "    }\n",
              "    60% {\n",
              "      border-color: transparent;\n",
              "      border-right-color: var(--fill-color);\n",
              "    }\n",
              "    80% {\n",
              "      border-color: transparent;\n",
              "      border-right-color: var(--fill-color);\n",
              "      border-bottom-color: var(--fill-color);\n",
              "    }\n",
              "    90% {\n",
              "      border-color: transparent;\n",
              "      border-bottom-color: var(--fill-color);\n",
              "    }\n",
              "  }\n",
              "</style>\n",
              "\n",
              "  <script>\n",
              "    async function quickchart(key) {\n",
              "      const quickchartButtonEl =\n",
              "        document.querySelector('#' + key + ' button');\n",
              "      quickchartButtonEl.disabled = true;  // To prevent multiple clicks.\n",
              "      quickchartButtonEl.classList.add('colab-df-spinner');\n",
              "      try {\n",
              "        const charts = await google.colab.kernel.invokeFunction(\n",
              "            'suggestCharts', [key], {});\n",
              "      } catch (error) {\n",
              "        console.error('Error during call to suggestCharts:', error);\n",
              "      }\n",
              "      quickchartButtonEl.classList.remove('colab-df-spinner');\n",
              "      quickchartButtonEl.classList.add('colab-df-quickchart-complete');\n",
              "    }\n",
              "    (() => {\n",
              "      let quickchartButtonEl =\n",
              "        document.querySelector('#df-deffe494-0b7b-40b4-b0eb-fed37cb57474 button');\n",
              "      quickchartButtonEl.style.display =\n",
              "        google.colab.kernel.accessAllowed ? 'block' : 'none';\n",
              "    })();\n",
              "  </script>\n",
              "</div>\n",
              "\n",
              "    </div>\n",
              "  </div>\n"
            ],
            "application/vnd.google.colaboratory.intrinsic+json": {
              "type": "dataframe",
              "variable_name": "data",
              "summary": "{\n  \"name\": \"data\",\n  \"rows\": 60,\n  \"fields\": [\n    {\n      \"column\": \"Date\",\n      \"properties\": {\n        \"dtype\": \"date\",\n        \"min\": \"2020-01-01 00:00:00\",\n        \"max\": \"2024-12-01 00:00:00\",\n        \"num_unique_values\": 60,\n        \"samples\": [\n          \"2020-01-01 00:00:00\",\n          \"2020-06-01 00:00:00\",\n          \"2023-01-01 00:00:00\"\n        ],\n        \"semantic_type\": \"\",\n        \"description\": \"\"\n      }\n    },\n    {\n      \"column\": \"AAPL\",\n      \"properties\": {\n        \"dtype\": \"number\",\n        \"std\": 43.034792849633895,\n        \"min\": 61.710845947265625,\n        \"max\": 250.1449737548828,\n        \"num_unique_values\": 60,\n        \"samples\": [\n          74.93374633789062,\n          88.7689437866211,\n          142.63160705566406\n        ],\n        \"semantic_type\": \"\",\n        \"description\": \"\"\n      }\n    },\n    {\n      \"column\": \"MSFT\",\n      \"properties\": {\n        \"dtype\": \"number\",\n        \"std\": 80.91784313520607,\n        \"min\": 150.95668029785156,\n        \"max\": 444.3636169433594,\n        \"num_unique_values\": 60,\n        \"samples\": [\n          162.49667358398438,\n          195.33798217773438,\n          243.32093811035156\n        ],\n        \"semantic_type\": \"\",\n        \"description\": \"\"\n      }\n    },\n    {\n      \"column\": \"SPY\",\n      \"properties\": {\n        \"dtype\": \"number\",\n        \"std\": 83.12199413445846,\n        \"min\": 238.9663543701172,\n        \"max\": 600.52880859375,\n        \"num_unique_values\": 60,\n        \"samples\": [\n          298.28375244140625,\n          287.56915283203125,\n          395.3236389160156\n        ],\n        \"semantic_type\": \"\",\n        \"description\": \"\"\n      }\n    }\n  ]\n}"
            }
          },
          "metadata": {},
          "execution_count": 12
        }
      ]
    },
    {
      "cell_type": "code",
      "source": [
        "# Sort by date just in case\n",
        "data = data.sort_index()\n",
        "returns = data.pct_change().dropna()\n"
      ],
      "metadata": {
        "id": "wNnRj3cAwjgC"
      },
      "execution_count": 13,
      "outputs": []
    },
    {
      "cell_type": "code",
      "source": [
        "annual_risk_free = 0.02\n",
        "monthly_risk_free = (1 + annual_risk_free)**(1/12) - 1\n",
        "print(\"Monthly risk-free rate:\", monthly_risk_free)\n"
      ],
      "metadata": {
        "colab": {
          "base_uri": "https://localhost:8080/"
        },
        "id": "36DgwB17wm4D",
        "outputId": "cec8bbc8-7785-4aa5-a280-3d7ef8130fdd"
      },
      "execution_count": 14,
      "outputs": [
        {
          "output_type": "stream",
          "name": "stdout",
          "text": [
            "Monthly risk-free rate: 0.0016515813019202241\n"
          ]
        }
      ]
    },
    {
      "cell_type": "code",
      "source": [
        "mean_returns = returns.mean()\n",
        "cov_matrix = returns.cov()\n",
        "\n",
        "print(\"Mean monthly returns:\\n\", mean_returns)\n",
        "print(\"\\nCovariance matrix:\\n\", cov_matrix)\n"
      ],
      "metadata": {
        "colab": {
          "base_uri": "https://localhost:8080/"
        },
        "id": "qQl__UrnwpAx",
        "outputId": "24f6d7a4-19b7-4265-9742-e767d9dd340a"
      },
      "execution_count": 15,
      "outputs": [
        {
          "output_type": "stream",
          "name": "stdout",
          "text": [
            "Mean monthly returns:\n",
            " Ticker\n",
            "AAPL    0.024033\n",
            "MSFT    0.018257\n",
            "SPY     0.012888\n",
            "dtype: float64\n",
            "\n",
            "Covariance matrix:\n",
            " Ticker      AAPL      MSFT       SPY\n",
            "Ticker                              \n",
            "AAPL    0.007078  0.003750  0.003415\n",
            "MSFT    0.003750  0.004176  0.002518\n",
            "SPY     0.003415  0.002518  0.002903\n"
          ]
        }
      ]
    },
    {
      "cell_type": "code",
      "source": [
        "n_assets = len(tickers)\n",
        "bounds = [(-2.0, 2.0)] * n_assets\n",
        "\n",
        "# If you want to keep total weights = 1:\n",
        "# constraints = {'type': 'eq', 'fun': lambda w: np.sum(w) - 1}\n",
        "# If you want to allow arbitrary sums, skip that constraint or set it differently:\n",
        "constraints = ()\n"
      ],
      "metadata": {
        "id": "sRpPMzlgwq_S"
      },
      "execution_count": 16,
      "outputs": []
    },
    {
      "cell_type": "code",
      "source": [
        "def portfolio_variance(weights, cov):\n",
        "    \"\"\"Compute portfolio variance given weights and covariance.\"\"\"\n",
        "    return weights.T @ cov @ weights\n",
        "\n",
        "def portfolio_return(weights, mean_r):\n",
        "    \"\"\"Compute portfolio return given weights and mean returns.\"\"\"\n",
        "    return weights.T @ mean_r\n"
      ],
      "metadata": {
        "id": "wWoW0u-7wslq"
      },
      "execution_count": 17,
      "outputs": []
    },
    {
      "cell_type": "code",
      "source": [
        "def min_var_given_return(mean_r, cov, target_return):\n",
        "    n = len(mean_r)\n",
        "    init_guess = np.ones(n) / n\n",
        "\n",
        "    constraints = (\n",
        "        {'type': 'ineq', 'fun': lambda w: portfolio_return(w, mean_r) - target_return},\n",
        "    )\n",
        "\n",
        "    result = minimize(\n",
        "        fun=portfolio_variance,\n",
        "        x0=init_guess,\n",
        "        args=(cov,),\n",
        "        method='SLSQP',\n",
        "        bounds=bounds,\n",
        "        constraints=constraints\n",
        "    )\n",
        "    return result\n"
      ],
      "metadata": {
        "id": "og2gpXycwvVs"
      },
      "execution_count": 18,
      "outputs": []
    },
    {
      "cell_type": "markdown",
      "source": [
        "# Maximum Sharpe Ratio​\n",
        "\n",
        "We want to maximize that. Equivalently, we can minimize the negative Sharpe ratio:"
      ],
      "metadata": {
        "id": "TkyUUeOnwyol"
      }
    },
    {
      "cell_type": "code",
      "source": [
        "def negative_sharpe_ratio(weights, mean_r, cov, rf):\n",
        "    port_return = portfolio_return(weights, mean_r)\n",
        "    port_vol = np.sqrt(portfolio_variance(weights, cov))\n",
        "    return -(port_return - rf) / port_vol\n",
        "\n",
        "def max_sharpe_ratio(mean_r, cov, rf):\n",
        "    n = len(mean_r)\n",
        "    init_guess = np.ones(n) / n\n",
        "    result = minimize(\n",
        "        fun=negative_sharpe_ratio,\n",
        "        x0=init_guess,\n",
        "        args=(mean_r, cov, rf),\n",
        "        method='SLSQP',\n",
        "        bounds=bounds\n",
        "    )\n",
        "    return result\n"
      ],
      "metadata": {
        "id": "qA8M9nCJwwKl"
      },
      "execution_count": 19,
      "outputs": []
    },
    {
      "cell_type": "markdown",
      "source": [
        "# Add a Simple Transaction Cost Penalty\n",
        "\n",
        "If we’re rebalancing from an old weight vector wold​ to a new weight vector w, a quick approach is:\n",
        "\n",
        "transaction cost=κ×∑i∣wi−wold,i∣\n",
        "\n",
        "where κ is a constant representing cost per unit of change in weight. Then, you’d add that cost to the objective function. For example, if you’re minimizing variance + transaction cost:"
      ],
      "metadata": {
        "id": "fy_OpI4pxuq_"
      }
    },
    {
      "cell_type": "code",
      "source": [
        "w_old = np.ones(n_assets) / n_assets  # Suppose you came from an equal-weight portfolio\n",
        "kappa = 0.001  # Example cost factor\n",
        "\n",
        "def portfolio_variance_with_tc(weights, cov, w_old, kappa):\n",
        "    var = portfolio_variance(weights, cov)\n",
        "    tc = kappa * np.sum(np.abs(weights - w_old))\n",
        "    return var + tc\n",
        "\n",
        "# Then you’d pass portfolio_variance_with_tc to minimize, along with (cov, w_old, kappa).\n"
      ],
      "metadata": {
        "id": "rCiOXdd-x1Rv"
      },
      "execution_count": 20,
      "outputs": []
    },
    {
      "cell_type": "markdown",
      "source": [
        "# Generate & Plot the Efficient Frontier (Min Variance)"
      ],
      "metadata": {
        "id": "jjWJmIcWyJAu"
      }
    },
    {
      "cell_type": "code",
      "source": [
        "min_ret = mean_returns.min()\n",
        "max_ret = mean_returns.max()\n",
        "\n",
        "target_returns = np.linspace(min_ret, max_ret, 20)\n",
        "frontier_data = []\n",
        "\n",
        "for tr in target_returns:\n",
        "    res = min_var_given_return(mean_returns, cov_matrix, tr)\n",
        "    if res.success:\n",
        "        w_opt = res.x\n",
        "        ret = portfolio_return(w_opt, mean_returns)\n",
        "        vol = np.sqrt(portfolio_variance(w_opt, cov_matrix))\n",
        "        frontier_data.append((ret, vol, w_opt))\n",
        "\n",
        "df_frontier = pd.DataFrame(frontier_data, columns=[\"Return\", \"Volatility\", \"Weights\"])\n"
      ],
      "metadata": {
        "id": "KszsdLUVyJ-W"
      },
      "execution_count": 21,
      "outputs": []
    },
    {
      "cell_type": "code",
      "source": [
        "plt.figure(figsize=(8, 5))\n",
        "plt.plot(df_frontier[\"Volatility\"], df_frontier[\"Return\"], \"o--\", label=\"Min-Variance Frontier\")\n",
        "plt.xlabel(\"Risk (Std. Dev.)\")\n",
        "plt.ylabel(\"Return\")\n",
        "plt.title(\"Efficient Frontier - Real Data (Short Selling Allowed)\")\n",
        "plt.legend()\n",
        "plt.show()\n"
      ],
      "metadata": {
        "colab": {
          "base_uri": "https://localhost:8080/",
          "height": 487
        },
        "id": "vxuPPUHJyNTV",
        "outputId": "cfcdf533-ee59-43e4-a39f-1ebb76d4bf03"
      },
      "execution_count": 22,
      "outputs": [
        {
          "output_type": "display_data",
          "data": {
            "text/plain": [
              "<Figure size 800x500 with 1 Axes>"
            ],
            "image/png": "[encoded data removed]"
          },
          "metadata": {}
        }
      ]
    },
    {
      "cell_type": "markdown",
      "source": [
        "# Compute the Maximum Sharpe Portfolio & Plot Capital Market Line"
      ],
      "metadata": {
        "id": "HtgFVS1dySwD"
      }
    },
    {
      "cell_type": "code",
      "source": [
        "res_sharpe = max_sharpe_ratio(mean_returns, cov_matrix, monthly_risk_free)\n",
        "if res_sharpe.success:\n",
        "    w_sharpe = res_sharpe.x\n",
        "    ret_sharpe = portfolio_return(w_sharpe, mean_returns)\n",
        "    vol_sharpe = np.sqrt(portfolio_variance(w_sharpe, cov_matrix))\n",
        "    sharpe_value = (ret_sharpe - monthly_risk_free) / vol_sharpe\n",
        "else:\n",
        "    raise ValueError(\"Max Sharpe optimization failed.\")\n"
      ],
      "metadata": {
        "id": "vyWEO-UMyQCd"
      },
      "execution_count": 23,
      "outputs": []
    },
    {
      "cell_type": "markdown",
      "source": [
        "We can also plot the Capital Market Line (CML) from the risk-free rate to the tangency (max Sharpe) portfolio:"
      ],
      "metadata": {
        "id": "l3_3xK33yXPl"
      }
    },
    {
      "cell_type": "code",
      "source": [
        "plt.figure(figsize=(8, 5))\n",
        "\n",
        "# Efficient frontier\n",
        "plt.plot(df_frontier[\"Volatility\"], df_frontier[\"Return\"], \"o--\", label=\"Min-Variance Frontier\")\n",
        "\n",
        "# Tangency portfolio\n",
        "plt.scatter(vol_sharpe, ret_sharpe, marker='*', color='r', s=200, label=\"Max Sharpe Portfolio\")\n",
        "\n",
        "# Capital Market Line: from risk-free to tangency\n",
        "cml_x = np.linspace(0, vol_sharpe, 100)\n",
        "cml_y = monthly_risk_free + sharpe_value * cml_x\n",
        "plt.plot(cml_x, cml_y, color='green', label=\"Capital Market Line\")\n",
        "\n",
        "plt.xlabel(\"Risk (Std. Dev.)\")\n",
        "plt.ylabel(\"Return\")\n",
        "plt.title(\"Efficient Frontier & CML (Real Data, Short Selling Allowed)\")\n",
        "plt.legend()\n",
        "plt.show()\n",
        "\n",
        "print(\"Max Sharpe Portfolio Weights:\\n\", pd.Series(w_sharpe, index=mean_returns.index))\n",
        "print(f\"Portfolio Return: {ret_sharpe:.4%}, Volatility: {vol_sharpe:.4%}, Sharpe: {sharpe_value:.4f}\")\n"
      ],
      "metadata": {
        "colab": {
          "base_uri": "https://localhost:8080/",
          "height": 612
        },
        "id": "E7RHfXjFyX8N",
        "outputId": "006d6891-9a69-4f82-f50e-d127cd9ac1b5"
      },
      "execution_count": 24,
      "outputs": [
        {
          "output_type": "display_data",
          "data": {
            "text/plain": [
              "<Figure size 800x500 with 1 Axes>"
            ],
            "image/png": "[encoded data removed]"
          },
          "metadata": {}
        },
        {
          "output_type": "stream",
          "name": "stdout",
          "text": [
            "Max Sharpe Portfolio Weights:\n",
            " Ticker\n",
            "AAPL    2.000000\n",
            "MSFT    2.000000\n",
            "SPY    -0.045097\n",
            "dtype: float64\n",
            "Portfolio Return: 8.3999%, Volatility: 27.1945%, Sharpe: 0.3028\n"
          ]
        }
      ]
    },
    {
      "cell_type": "markdown",
      "source": [
        "# Robust Covariance Estimation"
      ],
      "metadata": {
        "id": "MH5QaAsryqA3"
      }
    },
    {
      "cell_type": "code",
      "source": [
        "from scipy.optimize import minimize\n",
        "from sklearn.covariance import LedoitWolf\n"
      ],
      "metadata": {
        "id": "C1xl4OKsytqV"
      },
      "execution_count": 25,
      "outputs": []
    },
    {
      "cell_type": "markdown",
      "source": [
        "## Data Acquisition\n",
        "\n",
        "We use the `yfinance` library to fetch historical price data for our chosen tickers.\n",
        "Here, we have announced a list of tickers for different asset classes, such as equities (SPY, QQQ, EFA, EEM),\n",
        "fixed income (TLT, HYG), commodities (GLD), and crypto (BTC-USD).\n",
        "We specify a begin and end date, and obtain monthly adjusted close prices."
      ],
      "metadata": {
        "id": "a4p8VEGZ1Qu9"
      }
    },
    {
      "cell_type": "code",
      "source": [
        "tickers = [\n",
        "    \"SPY\",    # S&P 500\n",
        "    \"QQQ\",    # NASDAQ-100\n",
        "    \"EFA\",    # iShares MSCI EAFE (Developed)\n",
        "    \"EEM\",    # iShares MSCI Emerging Markets\n",
        "    \"TLT\",    # iShares 20+ Year Treasury Bond\n",
        "    \"HYG\",    # iShares High Yield Corporate Bond\n",
        "    \"GLD\",    # SPDR Gold Shares\n",
        "    \"BTC-USD\" # Bitcoin (crypto proxy)\n",
        "]\n"
      ],
      "metadata": {
        "id": "E1afcgnYyxKZ"
      },
      "execution_count": 26,
      "outputs": []
    },
    {
      "cell_type": "markdown",
      "source": [
        "# Data Cleaning & Setup\n",
        "\n",
        "We remove any missing values (NaNs) and compute monthly returns\n",
        "ranked on percentage change in adjusted close prices.\n",
        "As a sanity test, we'll also look at the top few rows\n",
        "of our data and some univariate statistics."
      ],
      "metadata": {
        "id": "X4lS1C8N1lV7"
      }
    },
    {
      "cell_type": "code",
      "source": [
        "start_date = \"2020-01-01\"\n",
        "end_date = \"2025-01-01\"\n",
        "\n",
        "price_data = yf.download(tickers, start=start_date, end=end_date, interval=\"1mo\", auto_adjust=True)[\"Close\"]\n",
        "price_data.dropna(inplace=True)  # Drop any rows with NaN\n",
        "price_data = price_data.sort_index()\n",
        "\n",
        "# Compute monthly returns\n",
        "returns_data = price_data.pct_change().dropna()\n"
      ],
      "metadata": {
        "colab": {
          "base_uri": "https://localhost:8080/"
        },
        "id": "GybQfN6Ry19V",
        "outputId": "56e38229-9058-45b2-f1a7-a2ed8a611f3f"
      },
      "execution_count": 27,
      "outputs": [
        {
          "output_type": "stream",
          "name": "stderr",
          "text": [
            "[*********************100%***********************]  8 of 8 completed\n"
          ]
        }
      ]
    },
    {
      "cell_type": "markdown",
      "source": [
        "# Robust Covariance (Ledoit-Wolf)\n",
        "\n",
        "Covariance matrices can be unstable in the case of small samples or volatile assets.\n",
        "The Ledoit-Wolf method 'shrinks' the sample covariance matrix towards a scaled identity matrix or constant correlation matrix, reducing noise and increasing stability. We are going to use the `LedoitWolf` class from `sklearn.covariance`.\n"
      ],
      "metadata": {
        "id": "UfC_Xk3_1vxK"
      }
    },
    {
      "cell_type": "code",
      "source": [
        "def ledoit_wolf_covariance(returns: pd.DataFrame):\n",
        "    lw = LedoitWolf().fit(returns.values)\n",
        "    shrunk_cov = lw.covariance_\n",
        "    mean_vec = returns.mean().values\n",
        "    return mean_vec, shrunk_cov\n",
        "\n",
        "mean_array, cov_matrix_lw = ledoit_wolf_covariance(returns_data)\n"
      ],
      "metadata": {
        "id": "-rayjcA8y5FV"
      },
      "execution_count": 28,
      "outputs": []
    },
    {
      "cell_type": "markdown",
      "source": [
        "### Mean-Variance Optimization\n",
        "\n",
        "We would like to solve the classical Markowitz problem:"
      ],
      "metadata": {
        "id": "yb31UJ061_Qs"
      }
    },
    {
      "cell_type": "code",
      "source": [
        "def portfolio_return(weights, mean_vec):\n",
        "    return np.dot(weights, mean_vec)\n",
        "\n",
        "def portfolio_volatility(weights, cov_matrix):\n",
        "    return np.sqrt(weights @ cov_matrix @ weights)\n",
        "\n",
        "def min_variance_for_target_return(mean_vec, cov_matrix, target_return, bounds, constraints):\n",
        "    \"\"\"\n",
        "    Minimizes variance subject to portfolio return >= target_return and constraints like sum of weights=1, no shorting, etc.\n",
        "    \"\"\"\n",
        "    def portfolio_variance(w):\n",
        "        return w @ cov_matrix @ w\n",
        "\n",
        "    # We'll impose the target return as an inequality: portfolio_return(w) - target_return >= 0\n",
        "    target_return_constraint = {\n",
        "        'type': 'ineq',\n",
        "        'fun': lambda w: (w @ mean_vec) - target_return\n",
        "    }\n",
        "\n",
        "    all_constraints = [target_return_constraint] + constraints\n",
        "\n",
        "    n = len(mean_vec)\n",
        "    init_guess = np.ones(n) / n\n",
        "\n",
        "    result = minimize(\n",
        "        fun=portfolio_variance,\n",
        "        x0=init_guess,\n",
        "        method='SLSQP',\n",
        "        bounds=bounds,\n",
        "        constraints=all_constraints\n",
        "    )\n",
        "    return result\n"
      ],
      "metadata": {
        "id": "2LDNJNgjy63X"
      },
      "execution_count": 29,
      "outputs": []
    },
    {
      "cell_type": "markdown",
      "source": [
        "# 100% Exposure, no short selling\n",
        "\n",
        "(No Short, Sum=1)"
      ],
      "metadata": {
        "id": "9cFl6089y_iO"
      }
    },
    {
      "cell_type": "code",
      "source": [
        "n_assets = len(tickers)\n",
        "sum_weights_constraint = {\n",
        "    'type': 'eq',\n",
        "    'fun': lambda w: np.sum(w) - 1\n",
        "}\n",
        "bounds_no_short = [(0.0, 1.0) for _ in range(n_assets)]  # [0,1] for each asset\n",
        "\n",
        "constraints_list = [sum_weights_constraint]\n"
      ],
      "metadata": {
        "id": "qx4HChOty-gl"
      },
      "execution_count": 30,
      "outputs": []
    },
    {
      "cell_type": "markdown",
      "source": [
        "Efficient Frontier\n",
        "\n",
        "We’ll pick a range of target returns between the minimum and maximum of the mean returns array. Note these are raw monthly means from the robust estimator."
      ],
      "metadata": {
        "id": "O6SIzqgTzGke"
      }
    },
    {
      "cell_type": "code",
      "source": [
        "min_ret = mean_array.min()\n",
        "max_ret = mean_array.max()\n",
        "n_points = 25\n",
        "target_returns = np.linspace(min_ret, max_ret, n_points)\n",
        "\n",
        "results = []\n",
        "for tr in target_returns:\n",
        "    res = min_variance_for_target_return(\n",
        "        mean_vec=mean_array,\n",
        "        cov_matrix=cov_matrix_lw,\n",
        "        target_return=tr,\n",
        "        bounds=bounds_no_short,\n",
        "        constraints=constraints_list\n",
        "    )\n",
        "\n",
        "    if res.success:\n",
        "        w_opt = res.x\n",
        "        port_ret = portfolio_return(w_opt, mean_array)\n",
        "        port_vol = portfolio_volatility(w_opt, cov_matrix_lw)\n",
        "        results.append([port_ret, port_vol, w_opt])\n",
        "\n",
        "df_frontier = pd.DataFrame(results, columns=[\"Return\", \"Volatility\", \"Weights\"])\n"
      ],
      "metadata": {
        "id": "X7Xy9ecrzHTI"
      },
      "execution_count": 31,
      "outputs": []
    },
    {
      "cell_type": "code",
      "source": [
        "plt.figure(figsize=(8, 5))\n",
        "plt.plot(df_frontier[\"Volatility\"], df_frontier[\"Return\"], 'o--', label=\"Robust Min-Var Frontier\")\n",
        "plt.xlabel(\"Volatility (std)\")\n",
        "plt.ylabel(\"Return (monthly, raw from LedoitWolf)\")\n",
        "plt.title(\"Efficient Frontier with Ledoit-Wolf Covariance (No Short, ∑w=1)\")\n",
        "plt.legend()\n",
        "plt.show()\n"
      ],
      "metadata": {
        "colab": {
          "base_uri": "https://localhost:8080/",
          "height": 487
        },
        "id": "8ov81j9fzJ3B",
        "outputId": "d564c7b6-4e95-4ca5-f67c-775d7e62c092"
      },
      "execution_count": 32,
      "outputs": [
        {
          "output_type": "display_data",
          "data": {
            "text/plain": [
              "<Figure size 800x500 with 1 Axes>"
            ],
            "image/png": "[encoded data removed]"
          },
          "metadata": {}
        }
      ]
    },
    {
      "cell_type": "markdown",
      "source": [
        "## Rolling Window Analysis\n",
        "\n",
        "In the real world, we don't use the whole historical sample to one covariance estimate,\n",
        "because markets evolve over time. We can instead recast our problem as a\n",
        "rolling-window configuration. We estimate the covariance matrix (Ledoit-Wolf) for every window (e.g., 24 months), then optimize the portfolio.\n",
        "We go by some step size, re-estimate, and repeat. This simulates a more realistic rebalancing strategy.\n"
      ],
      "metadata": {
        "id": "cD0xFP0ZzRj0"
      }
    },
    {
      "cell_type": "code",
      "source": [
        "window_size = 24  # 24 months\n",
        "step_size = 3     # Rebalance every 3 months\n",
        "\n",
        "all_dates = returns_data.index\n",
        "frontier_by_date = {}  # Store frontier for each rebalancing date\n",
        "\n",
        "for start_idx in range(0, len(all_dates) - window_size, step_size):\n",
        "    end_idx = start_idx + window_size\n",
        "    window_returns = returns_data.iloc[start_idx:end_idx, :]\n",
        "\n",
        "    # Fit LedoitWolf for the rolling window\n",
        "    lw = LedoitWolf().fit(window_returns.values)\n",
        "    mean_vec_rolling = lw.location_\n",
        "    cov_rolling = lw.covariance_\n",
        "\n",
        "    # We'll choose just the \"max Sharpe\" or \"global minimum variance\" for simplicity\n",
        "    def portfolio_variance(w): return w @ cov_rolling @ w\n",
        "\n",
        "    # Global min variance (no target return constraint)\n",
        "    cons_gmv = [sum_weights_constraint]\n",
        "    res_gmv = minimize(\n",
        "        fun=portfolio_variance,\n",
        "        x0=np.ones(n_assets)/n_assets,\n",
        "        method='SLSQP',\n",
        "        bounds=bounds_no_short,\n",
        "        constraints=cons_gmv\n",
        "    )\n",
        "\n",
        "    # Store date & results\n",
        "    rebal_date = all_dates[end_idx]  # The date after the window\n",
        "    if res_gmv.success:\n",
        "        w_gmv = res_gmv.x\n",
        "        ret_gmv = np.dot(w_gmv, mean_vec_rolling)\n",
        "        vol_gmv = np.sqrt(w_gmv @ cov_rolling @ w_gmv)\n",
        "        frontier_by_date[rebal_date] = {\n",
        "            'Weights': w_gmv,\n",
        "            'Return': ret_gmv,\n",
        "            'Volatility': vol_gmv\n",
        "        }\n",
        "\n",
        "# 'frontier_by_date' now has a dictionary of global-min-variance solutions at each rolling period.\n"
      ],
      "metadata": {
        "id": "NrUMIGb1zOre"
      },
      "execution_count": 33,
      "outputs": []
    },
    {
      "cell_type": "markdown",
      "source": [
        "# Testing Comparisons: Robust (Ledoit-Wolf) vs. Sample Covariance"
      ],
      "metadata": {
        "id": "E8DtkD4G2iqb"
      }
    },
    {
      "cell_type": "code",
      "source": [
        "from sklearn.covariance import LedoitWolf\n",
        "\n",
        "# Sample Covariance\n",
        "sample_cov = returns_data.cov().values\n",
        "sample_mean = returns_data.mean().values\n",
        "\n",
        "# Ledoit-Wolf Covariance\n",
        "lw = LedoitWolf().fit(returns_data.values)\n",
        "lw_cov = lw.covariance_\n",
        "lw_mean = lw.location_\n"
      ],
      "metadata": {
        "id": "Jb1Q8NeV2oM0"
      },
      "execution_count": 34,
      "outputs": []
    },
    {
      "cell_type": "code",
      "source": [
        "from scipy.optimize import minimize\n",
        "\n",
        "def portfolio_volatility(weights, cov):\n",
        "    return np.sqrt(weights @ cov @ weights)\n",
        "\n",
        "def portfolio_return(weights, mean_r):\n",
        "    return np.dot(weights, mean_r)\n",
        "\n",
        "def min_variance_for_target_return(mean_r, cov, target_ret, bounds, constraints):\n",
        "    def port_variance(w):\n",
        "        return w @ cov @ w\n",
        "    target_constraint = {\n",
        "        'type': 'ineq',\n",
        "        'fun': lambda w: np.dot(w, mean_r) - target_ret\n",
        "    }\n",
        "    # Combine with user-defined constraints (e.g., sum of weights=1, no short)\n",
        "    all_constraints = [target_constraint] + constraints\n",
        "    init_guess = np.ones(len(mean_r)) / len(mean_r)\n",
        "\n",
        "    result = minimize(\n",
        "        fun=port_variance,\n",
        "        x0=init_guess,\n",
        "        method='SLSQP',\n",
        "        bounds=bounds,\n",
        "        constraints=all_constraints\n",
        "    )\n",
        "    return result\n",
        "\n",
        "def build_frontier(mean_r, cov, n_points=25, bounds=None, constraints=None):\n",
        "    \"\"\"Generate points on the min-var frontier from min to max mean.\"\"\"\n",
        "    min_ret = mean_r.min()\n",
        "    max_ret = mean_r.max()\n",
        "    target_returns = np.linspace(min_ret, max_ret, n_points)\n",
        "    frontier = []\n",
        "\n",
        "    for tr in target_returns:\n",
        "        res = min_variance_for_target_return(mean_r, cov, tr, bounds, constraints)\n",
        "        if res.success:\n",
        "            w_opt = res.x\n",
        "            ret = portfolio_return(w_opt, mean_r)\n",
        "            vol = portfolio_volatility(w_opt, cov)\n",
        "            frontier.append((ret, vol, w_opt))\n",
        "    return pd.DataFrame(frontier, columns=[\"Return\", \"Volatility\", \"Weights\"])\n"
      ],
      "metadata": {
        "id": "FrQiEeBA2tr5"
      },
      "execution_count": 35,
      "outputs": []
    },
    {
      "cell_type": "code",
      "source": [
        "n_assets = len(sample_mean)\n",
        "# Example: sum of weights=1, no short selling\n",
        "constraints_no_short = [{\n",
        "    'type': 'eq',\n",
        "    'fun': lambda w: np.sum(w) - 1\n",
        "}]\n",
        "bounds_no_short = [(0.0, 1.0)] * n_assets\n",
        "\n",
        "frontier_sample = build_frontier(sample_mean, sample_cov, n_points=20,\n",
        "                                 bounds=bounds_no_short, constraints=constraints_no_short)\n",
        "frontier_lw = build_frontier(lw_mean, lw_cov, n_points=20,\n",
        "                             bounds=bounds_no_short, constraints=constraints_no_short)\n"
      ],
      "metadata": {
        "id": "NYI5JUjK2vwU"
      },
      "execution_count": 36,
      "outputs": []
    },
    {
      "cell_type": "code",
      "source": [
        "import matplotlib.pyplot as plt\n",
        "\n",
        "plt.figure(figsize=(8, 5))\n",
        "plt.plot(frontier_sample[\"Volatility\"], frontier_sample[\"Return\"], 'o--', label='Sample Cov')\n",
        "plt.plot(frontier_lw[\"Volatility\"], frontier_lw[\"Return\"], 'o--', label='Ledoit-Wolf')\n",
        "plt.xlabel(\"Volatility (Std. Dev.)\")\n",
        "plt.ylabel(\"Return (Monthly)\")\n",
        "plt.title(\"Comparison of Efficient Frontiers\")\n",
        "plt.legend()\n",
        "plt.show()\n"
      ],
      "metadata": {
        "colab": {
          "base_uri": "https://localhost:8080/",
          "height": 487
        },
        "id": "HADilBaB2xfJ",
        "outputId": "44447d42-ea31-4d2d-aa5e-ca501dc43db0"
      },
      "execution_count": 37,
      "outputs": [
        {
          "output_type": "display_data",
          "data": {
            "text/plain": [
              "<Figure size 800x500 with 1 Axes>"
            ],
            "image/png": "[encoded data removed]"
          },
          "metadata": {}
        }
      ]
    },
    {
      "cell_type": "markdown",
      "source": [
        "# Naive 1/N Portfolio vs. Optimized"
      ],
      "metadata": {
        "id": "3VboNBt_26CJ"
      }
    },
    {
      "cell_type": "code",
      "source": [
        "num_assets = returns_data.shape[1]\n",
        "w_naive = np.ones(num_assets) / num_assets\n"
      ],
      "metadata": {
        "id": "AdO0fM2K27Aw"
      },
      "execution_count": 38,
      "outputs": []
    },
    {
      "cell_type": "code",
      "source": [
        "# Suppose returns_data is an (N x #assets) DataFrame\n",
        "# Weighted sum to get portfolio returns\n",
        "naive_port_returns = (returns_data * w_naive).sum(axis=1)\n"
      ],
      "metadata": {
        "id": "OSYvovHp28-O"
      },
      "execution_count": 39,
      "outputs": []
    },
    {
      "cell_type": "code",
      "source": [
        "optimized_port = frontier_lw.iloc[len(frontier_lw)//2]\n",
        "w_optimized = optimized_port[\"Weights\"]\n",
        "opt_port_returns = (returns_data * w_optimized).sum(axis=1)\n"
      ],
      "metadata": {
        "id": "XcdTqYJg2_np"
      },
      "execution_count": 40,
      "outputs": []
    },
    {
      "cell_type": "code",
      "source": [
        "def annualize_return(monthly_returns, periods_per_year=12):\n",
        "    avg_monthly_ret = monthly_returns.mean()\n",
        "    return (1 + avg_monthly_ret)**periods_per_year - 1\n",
        "\n",
        "def annualize_volatility(monthly_returns, periods_per_year=12):\n",
        "    return monthly_returns.std() * np.sqrt(periods_per_year)\n",
        "\n",
        "def sharpe_ratio(monthly_returns, risk_free=0.0, periods_per_year=12):\n",
        "    excess_returns = monthly_returns - (risk_free / periods_per_year)\n",
        "    ann_ret = annualize_return(excess_returns, periods_per_year)\n",
        "    ann_vol = annualize_volatility(excess_returns, periods_per_year)\n",
        "    return ann_ret / ann_vol\n"
      ],
      "metadata": {
        "id": "zaJhhVWU3BRH"
      },
      "execution_count": 41,
      "outputs": []
    },
    {
      "cell_type": "code",
      "source": [
        "# Annualized Return\n",
        "naive_ret = annualize_return(naive_port_returns)\n",
        "opt_ret   = annualize_return(opt_port_returns)\n",
        "\n",
        "# Annualized Volatility\n",
        "naive_vol = annualize_volatility(naive_port_returns)\n",
        "opt_vol   = annualize_volatility(opt_port_returns)\n",
        "\n",
        "# Sharpe Ratios (assuming 0% risk-free for simplicity)\n",
        "naive_sharpe = sharpe_ratio(naive_port_returns)\n",
        "opt_sharpe   = sharpe_ratio(opt_port_returns)\n",
        "\n",
        "print(\"Naive 1/N Portfolio:\")\n",
        "print(f\" Annualized Return: {naive_ret:.2%}\")\n",
        "print(f\" Annualized Volatility: {naive_vol:.2%}\")\n",
        "print(f\" Sharpe Ratio: {naive_sharpe:.2f}\")\n",
        "\n",
        "print(\"\\nOptimized Portfolio (e.g. from Ledoit-Wolf Frontier):\")\n",
        "print(f\" Annualized Return: {opt_ret:.2%}\")\n",
        "print(f\" Annualized Volatility: {opt_vol:.2%}\")\n",
        "print(f\" Sharpe Ratio: {opt_sharpe:.2f}\")\n"
      ],
      "metadata": {
        "colab": {
          "base_uri": "https://localhost:8080/"
        },
        "id": "a63J6VQr3C-I",
        "outputId": "ed0a32a9-64d6-4829-f3e0-dd7ba52ce7e6"
      },
      "execution_count": 42,
      "outputs": [
        {
          "output_type": "stream",
          "name": "stdout",
          "text": [
            "Naive 1/N Portfolio:\n",
            " Annualized Return: 16.54%\n",
            " Annualized Volatility: 17.66%\n",
            " Sharpe Ratio: 0.94\n",
            "\n",
            "Optimized Portfolio (e.g. from Ledoit-Wolf Frontier):\n",
            " Annualized Return: 39.24%\n",
            " Annualized Volatility: 28.65%\n",
            " Sharpe Ratio: 1.37\n"
          ]
        }
      ]
    },
    {
      "cell_type": "code",
      "source": [
        "naive_cum = (1 + naive_port_returns).cumprod()\n",
        "opt_cum   = (1 + opt_port_returns).cumprod()\n",
        "\n",
        "plt.figure(figsize=(8,5))\n",
        "plt.plot(naive_cum, label='Naive 1/N')\n",
        "plt.plot(opt_cum, label='Optimized (LW Frontier Point)')\n",
        "plt.title(\"Cumulative Returns Comparison\")\n",
        "plt.legend()\n",
        "plt.show()\n"
      ],
      "metadata": {
        "id": "zAbWs6iR3KeU",
        "outputId": "5b45837c-d4cd-41fd-b4af-ad1f709d91f7",
        "colab": {
          "base_uri": "https://localhost:8080/",
          "height": 468
        }
      },
      "execution_count": 43,
      "outputs": [
        {
          "output_type": "display_data",
          "data": {
            "text/plain": [
              "<Figure size 800x500 with 1 Axes>"
            ],
            "image/png": "[encoded data removed]"
          },
          "metadata": {}
        }
      ]
    }
  ]
}